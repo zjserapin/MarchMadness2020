{
  "nbformat": 4,
  "nbformat_minor": 0,
  "metadata": {
    "colab": {
      "name": "MarchMadness.ipynb",
      "provenance": [],
      "collapsed_sections": [],
      "authorship_tag": "ABX9TyPnTrJ0ppJ/QdGkM2vYTDUz",
      "include_colab_link": true
    },
    "kernelspec": {
      "name": "python3",
      "display_name": "Python 3"
    }
  },
  "cells": [
    {
      "cell_type": "markdown",
      "metadata": {
        "id": "view-in-github",
        "colab_type": "text"
      },
      "source": [
        "<a href=\"https://colab.research.google.com/github/zjserapin/MarchMadness2020/blob/master/MarchMadness.ipynb\" target=\"_parent\"><img src=\"https://colab.research.google.com/assets/colab-badge.svg\" alt=\"Open In Colab\"/></a>"
      ]
    },
    {
      "cell_type": "markdown",
      "metadata": {
        "id": "qjj2iz3Fr-94",
        "colab_type": "text"
      },
      "source": [
        "With this years march madness being cancelled due to coronavirus I though it would be fun to try to simulate it!"
      ]
    },
    {
      "cell_type": "markdown",
      "metadata": {
        "id": "7--q2nkAsW6K",
        "colab_type": "text"
      },
      "source": [
        "First lets upload some packages to get the ball rolling"
      ]
    },
    {
      "cell_type": "code",
      "metadata": {
        "id": "aznCJeclkPkQ",
        "colab_type": "code",
        "colab": {}
      },
      "source": [
        "from bs4 import BeautifulSoup\n",
        "import requests\n",
        "import pandas as pd\n",
        "import numpy as np\n",
        "import re"
      ],
      "execution_count": 0,
      "outputs": []
    },
    {
      "cell_type": "markdown",
      "metadata": {
        "id": "GHLeaNoysnEp",
        "colab_type": "text"
      },
      "source": [
        "First Im going to input efficiency metrics of each team from Kenpom.com.  This is a great website, providing advanced analytics on men's and women's college basketball."
      ]
    },
    {
      "cell_type": "code",
      "metadata": {
        "id": "BgtpxII5kYjk",
        "colab_type": "code",
        "colab": {}
      },
      "source": [
        "base_url = \"https://kenpom.com/index.php\"\n",
        "url_year = lambda x: '%s?y=%s' % (base_url, str(x) if x != 2016 else base_url)\n",
        "years = range(2015,2020)"
      ],
      "execution_count": 0,
      "outputs": []
    },
    {
      "cell_type": "markdown",
      "metadata": {
        "id": "s8e9ujtpnmdd",
        "colab_type": "text"
      },
      "source": [
        "In order to utilize the metrics from Kenpom, I needed to scrape elements from this website.  In order to do this I used code written from a kaggle user WalterHan.  During a Kaggle exercise in 2016 Walter scrapped similar data from Kenpom.com for his project. "
      ]
    },
    {
      "cell_type": "code",
      "metadata": {
        "id": "l-I862iokbrO",
        "colab_type": "code",
        "colab": {}
      },
      "source": [
        "def import_raw_year(year):\n",
        "    \"\"\"\n",
        "    Imports raw data from a ken pom year into a dataframe\n",
        "    \"\"\"\n",
        "    f = requests.get(url_year(year))\n",
        "    soup = BeautifulSoup(f.text, features='lxml')\n",
        "    table_html = soup.find_all('table', {'id': 'ratings-table'})\n",
        "\n",
        "    thead = table_html[0].find_all('thead')\n",
        "\n",
        "    table = table_html[0]\n",
        "    for x in thead:\n",
        "        table = str(table).replace(str(x), '')\n",
        "\n",
        "    df = pd.read_html(table)[0]\n",
        "    df['year'] = year\n",
        "    return df"
      ],
      "execution_count": 0,
      "outputs": []
    },
    {
      "cell_type": "markdown",
      "metadata": {
        "id": "qG7U4TgropmZ",
        "colab_type": "text"
      },
      "source": [
        "I also manually typed in the latest projected bracekt from ESPN's Joe Lunardi into an excell spreadsheet. I then joined each teams efficieny ratings to the bracket to facilitate the simulation"
      ]
    },
    {
      "cell_type": "code",
      "metadata": {
        "id": "NtxQdyS1kf59",
        "colab_type": "code",
        "outputId": "754fd100-451b-4f67-bffb-37b7e8be26d3",
        "colab": {
          "base_uri": "https://localhost:8080/",
          "height": 343
        }
      },
      "source": [
        "df20 = import_raw_year(2020)\n",
        "df20.columns = ['Rank', 'Team', 'Conference', 'W-L', 'AdjEM', \n",
        "             'AdjustO', 'AdjustO Rank', 'AdjustD', 'AdjustD Rank',\n",
        "             'AdjustT', 'AdjustT Rank', 'Luck', 'Luck Rank', \n",
        "             'SOS Pyth', 'SOS Pyth Rank', 'SOS OppO', 'SOS OppO Rank',\n",
        "             'SOS OppD', 'SOS OppD Rank', 'NCSOS Pyth', 'NCSOS Pyth Rank', 'Year']\n",
        "\n",
        "df_bracket = pd.read_csv(\"https://raw.githubusercontent.com/zjserapin/MarchMadness2020/master/Bracketology.csv\")\n",
        "df_bracket = pd.merge(df_bracket, df20, on=\"Team\", how=\"left\")\n",
        "df_bracket['AdjEM'] = df_bracket['AdjEM'].astype('float64')\n",
        "df_bracket.head()"
      ],
      "execution_count": 0,
      "outputs": [
        {
          "output_type": "execute_result",
          "data": {
            "text/html": [
              "<div>\n",
              "<style scoped>\n",
              "    .dataframe tbody tr th:only-of-type {\n",
              "        vertical-align: middle;\n",
              "    }\n",
              "\n",
              "    .dataframe tbody tr th {\n",
              "        vertical-align: top;\n",
              "    }\n",
              "\n",
              "    .dataframe thead th {\n",
              "        text-align: right;\n",
              "    }\n",
              "</style>\n",
              "<table border=\"1\" class=\"dataframe\">\n",
              "  <thead>\n",
              "    <tr style=\"text-align: right;\">\n",
              "      <th></th>\n",
              "      <th>Team</th>\n",
              "      <th>Region</th>\n",
              "      <th>Seed</th>\n",
              "      <th>Rank</th>\n",
              "      <th>Conference</th>\n",
              "      <th>W-L</th>\n",
              "      <th>AdjEM</th>\n",
              "      <th>AdjustO</th>\n",
              "      <th>AdjustO Rank</th>\n",
              "      <th>AdjustD</th>\n",
              "      <th>AdjustD Rank</th>\n",
              "      <th>AdjustT</th>\n",
              "      <th>AdjustT Rank</th>\n",
              "      <th>Luck</th>\n",
              "      <th>Luck Rank</th>\n",
              "      <th>SOS Pyth</th>\n",
              "      <th>SOS Pyth Rank</th>\n",
              "      <th>SOS OppO</th>\n",
              "      <th>SOS OppO Rank</th>\n",
              "      <th>SOS OppD</th>\n",
              "      <th>SOS OppD Rank</th>\n",
              "      <th>NCSOS Pyth</th>\n",
              "      <th>NCSOS Pyth Rank</th>\n",
              "      <th>Year</th>\n",
              "    </tr>\n",
              "  </thead>\n",
              "  <tbody>\n",
              "    <tr>\n",
              "      <th>0</th>\n",
              "      <td>Kansas</td>\n",
              "      <td>Midwest</td>\n",
              "      <td>1</td>\n",
              "      <td>1</td>\n",
              "      <td>B12</td>\n",
              "      <td>28-3</td>\n",
              "      <td>30.23</td>\n",
              "      <td>115.8</td>\n",
              "      <td>8</td>\n",
              "      <td>85.5</td>\n",
              "      <td>2</td>\n",
              "      <td>67.3</td>\n",
              "      <td>233</td>\n",
              "      <td>0.040</td>\n",
              "      <td>79</td>\n",
              "      <td>12.66</td>\n",
              "      <td>2</td>\n",
              "      <td>107.4</td>\n",
              "      <td>26</td>\n",
              "      <td>94.7</td>\n",
              "      <td>1</td>\n",
              "      <td>9.58</td>\n",
              "      <td>10</td>\n",
              "      <td>2020</td>\n",
              "    </tr>\n",
              "    <tr>\n",
              "      <th>1</th>\n",
              "      <td>Siena</td>\n",
              "      <td>Midwest</td>\n",
              "      <td>16</td>\n",
              "      <td>145</td>\n",
              "      <td>MAAC</td>\n",
              "      <td>20-10</td>\n",
              "      <td>2.06</td>\n",
              "      <td>107.2</td>\n",
              "      <td>87</td>\n",
              "      <td>105.1</td>\n",
              "      <td>236</td>\n",
              "      <td>66.7</td>\n",
              "      <td>261</td>\n",
              "      <td>-0.001</td>\n",
              "      <td>189</td>\n",
              "      <td>-5.42</td>\n",
              "      <td>277</td>\n",
              "      <td>98.3</td>\n",
              "      <td>329</td>\n",
              "      <td>103.7</td>\n",
              "      <td>205</td>\n",
              "      <td>0.29</td>\n",
              "      <td>171</td>\n",
              "      <td>2020</td>\n",
              "    </tr>\n",
              "    <tr>\n",
              "      <th>2</th>\n",
              "      <td>Houston</td>\n",
              "      <td>Midwest</td>\n",
              "      <td>8</td>\n",
              "      <td>14</td>\n",
              "      <td>Amer</td>\n",
              "      <td>23-8</td>\n",
              "      <td>20.39</td>\n",
              "      <td>112.7</td>\n",
              "      <td>22</td>\n",
              "      <td>92.3</td>\n",
              "      <td>21</td>\n",
              "      <td>65.7</td>\n",
              "      <td>300</td>\n",
              "      <td>-0.052</td>\n",
              "      <td>308</td>\n",
              "      <td>6.33</td>\n",
              "      <td>68</td>\n",
              "      <td>104.2</td>\n",
              "      <td>99</td>\n",
              "      <td>97.9</td>\n",
              "      <td>38</td>\n",
              "      <td>2.56</td>\n",
              "      <td>88</td>\n",
              "      <td>2020</td>\n",
              "    </tr>\n",
              "    <tr>\n",
              "      <th>3</th>\n",
              "      <td>Marquette</td>\n",
              "      <td>Midwest</td>\n",
              "      <td>9</td>\n",
              "      <td>31</td>\n",
              "      <td>BE</td>\n",
              "      <td>18-12</td>\n",
              "      <td>17.19</td>\n",
              "      <td>114.0</td>\n",
              "      <td>14</td>\n",
              "      <td>96.9</td>\n",
              "      <td>73</td>\n",
              "      <td>70.7</td>\n",
              "      <td>60</td>\n",
              "      <td>-0.046</td>\n",
              "      <td>293</td>\n",
              "      <td>10.78</td>\n",
              "      <td>20</td>\n",
              "      <td>107.6</td>\n",
              "      <td>21</td>\n",
              "      <td>96.9</td>\n",
              "      <td>18</td>\n",
              "      <td>2.13</td>\n",
              "      <td>100</td>\n",
              "      <td>2020</td>\n",
              "    </tr>\n",
              "    <tr>\n",
              "      <th>4</th>\n",
              "      <td>Auburn</td>\n",
              "      <td>Midwest</td>\n",
              "      <td>5</td>\n",
              "      <td>33</td>\n",
              "      <td>SEC</td>\n",
              "      <td>25-6</td>\n",
              "      <td>15.91</td>\n",
              "      <td>111.4</td>\n",
              "      <td>33</td>\n",
              "      <td>95.5</td>\n",
              "      <td>55</td>\n",
              "      <td>69.2</td>\n",
              "      <td>127</td>\n",
              "      <td>0.103</td>\n",
              "      <td>7</td>\n",
              "      <td>6.70</td>\n",
              "      <td>62</td>\n",
              "      <td>107.0</td>\n",
              "      <td>32</td>\n",
              "      <td>100.3</td>\n",
              "      <td>90</td>\n",
              "      <td>1.38</td>\n",
              "      <td>133</td>\n",
              "      <td>2020</td>\n",
              "    </tr>\n",
              "  </tbody>\n",
              "</table>\n",
              "</div>"
            ],
            "text/plain": [
              "        Team   Region  Seed  ...  NCSOS Pyth NCSOS Pyth Rank  Year\n",
              "0     Kansas  Midwest     1  ...        9.58              10  2020\n",
              "1      Siena  Midwest    16  ...        0.29             171  2020\n",
              "2    Houston  Midwest     8  ...        2.56              88  2020\n",
              "3  Marquette  Midwest     9  ...        2.13             100  2020\n",
              "4     Auburn  Midwest     5  ...        1.38             133  2020\n",
              "\n",
              "[5 rows x 24 columns]"
            ]
          },
          "metadata": {
            "tags": []
          },
          "execution_count": 21
        }
      ]
    },
    {
      "cell_type": "code",
      "metadata": {
        "id": "L1_Dw9SRlFGG",
        "colab_type": "code",
        "colab": {}
      },
      "source": [
        "from random import random\n",
        "import numpy as np\n",
        "from itertools import compress\n",
        "from numpy.random import multinomial"
      ],
      "execution_count": 0,
      "outputs": []
    },
    {
      "cell_type": "markdown",
      "metadata": {
        "id": "DQzKxFYfwvJb",
        "colab_type": "text"
      },
      "source": [
        "Next we are moving into the fun part!  I am going to use a pythagorean sum to generate win probabilities between the two teams in a given matchup.  For example if Team 1 has a rating of 60 and Team 2 a rating of 40.  The win probability for team would be 60% as 60 / (60+40) = 0.6.  To suplement this, I will use a function that generates a random weighted choice between the two win probabilites in an attempt to replicate some of the \"unpredictable\" events that take place in every tournament. "
      ]
    },
    {
      "cell_type": "code",
      "metadata": {
        "id": "Sp3CDfDXlFYf",
        "colab_type": "code",
        "colab": {}
      },
      "source": [
        "def weightedChoice(weights, objects):\n",
        "    return next(compress(objects, multinomial(1, weights, 1)[0]))\n",
        "\n",
        "def predictor(team1, team2):\n",
        "    prob1 = (team1['AdjEM'].sum()/(team1['AdjEM'].sum()+team2['AdjEM'].sum()))\n",
        "    prob2 = (team2['AdjEM'].sum()/(team1['AdjEM'].sum()+team2['AdjEM'].sum()))\n",
        "    choice = weightedChoice([prob1, prob2], [team1, team2])\n",
        "    return choice"
      ],
      "execution_count": 0,
      "outputs": []
    },
    {
      "cell_type": "markdown",
      "metadata": {
        "id": "bvVkFUrd1IuK",
        "colab_type": "text"
      },
      "source": [
        "There were a few teams that had an efficieny score below 0.  This would cause some issues in generating the win probabilites so I changed them to 0.1, in order to give them at least a chance in a given matchup."
      ]
    },
    {
      "cell_type": "code",
      "metadata": {
        "id": "37ycnxpllTj8",
        "colab_type": "code",
        "colab": {}
      },
      "source": [
        "df_bracket.loc[(df_bracket['AdjEM'] < 0), 'AdjEM'] = 0.1"
      ],
      "execution_count": 0,
      "outputs": []
    },
    {
      "cell_type": "markdown",
      "metadata": {
        "id": "BfqNkd9i12GC",
        "colab_type": "text"
      },
      "source": [
        "Then I divided the original dataframe into the different regions to help me better keep track of matchups and victors."
      ]
    },
    {
      "cell_type": "code",
      "metadata": {
        "id": "PLqxlRg1lTuA",
        "colab_type": "code",
        "colab": {}
      },
      "source": [
        "south = df_bracket[(df_bracket['Region']=='South')]\n",
        "east = df_bracket[(df_bracket['Region']=='East')]\n",
        "midwest = df_bracket[(df_bracket['Region']=='Midwest')]\n",
        "west = df_bracket[(df_bracket['Region']=='West')]"
      ],
      "execution_count": 0,
      "outputs": []
    },
    {
      "cell_type": "markdown",
      "metadata": {
        "id": "d_VYpz2d2C84",
        "colab_type": "text"
      },
      "source": [
        "I stored each winner of a game as a variable and progressed it throughout the entire tournament.  Im sure there is a more efficient way to do it, this code runs sufficiently quick."
      ]
    },
    {
      "cell_type": "code",
      "metadata": {
        "id": "E_T53AzflTxD",
        "colab_type": "code",
        "outputId": "7ccb36e0-a890-414e-9cb6-59d506f2b931",
        "colab": {
          "base_uri": "https://localhost:8080/",
          "height": 238
        }
      },
      "source": [
        "########### PLAY IN GAMES #####################\n",
        "\n",
        "play1 = predictor(east.loc[east['Team'] == \"Boston Univeristy\"], \n",
        "                            east.loc[east['Team'] == \"Robert Morris\"]) \n",
        "play2 = predictor(east.loc[east['Team'] == \"Texas\"], \n",
        "                            east.loc[east['Team'] == \"Richmond\"]) \n",
        "play3 = predictor(east.loc[east['Team'] == \"UCLA\"], \n",
        "                            east.loc[east['Team'] == \"N.C. State\"]) \n",
        "play4 = predictor(west.loc[west['Team'] == \"Prairie View A&M\"], \n",
        "                            west.loc[west['Team'] == \"North Carolina Central\"]) \n",
        "\n",
        "############### First Round Games\n",
        "\n",
        "south_1v16 = predictor(south.loc[south['Seed'] == 1], south.loc[south['Seed'] == 16])                                    \n",
        "south_8v9 = predictor(south.loc[south['Seed'] == 8], south.loc[south['Seed'] == 9])\n",
        "south_4v13 = predictor(south.loc[south['Seed'] == 4], south.loc[south['Seed'] == 13])\n",
        "south_5v12 = predictor(south.loc[south['Seed'] == 5], south.loc[south['Seed'] == 12])\n",
        "south_2v15 = predictor(south.loc[south['Seed'] == 2], south.loc[south['Seed'] == 15])\n",
        "south_7v10 = predictor(south.loc[south['Seed'] == 7], south.loc[south['Seed'] == 10])\n",
        "south_3v14 = predictor(south.loc[south['Seed'] == 3], south.loc[south['Seed'] == 14])\n",
        "south_6v11 = predictor(south.loc[south['Seed'] == 6], south.loc[south['Seed'] == 11])\n",
        "\n",
        "west_1v16 = predictor(west.loc[west['Seed'] == 1], play4)                                    \n",
        "west_8v9 = predictor(west.loc[west['Seed'] == 8], west.loc[west['Seed'] == 9])\n",
        "west_4v13 = predictor(west.loc[west['Seed'] == 4], west.loc[west['Seed'] == 13])\n",
        "west_5v12 = predictor(west.loc[west['Seed'] == 5], west.loc[west['Seed'] == 12])\n",
        "west_2v15 = predictor(west.loc[west['Seed'] == 2], west.loc[west['Seed'] == 15])\n",
        "west_7v10 = predictor(west.loc[west['Seed'] == 7], west.loc[west['Seed'] == 10])\n",
        "west_3v14 = predictor(west.loc[west['Seed'] == 3], west.loc[west['Seed'] == 14])\n",
        "west_6v11 = predictor(west.loc[west['Seed'] == 6], west.loc[west['Seed'] == 11])\n",
        "\n",
        "midwest_1v16 = predictor(midwest.loc[midwest['Seed'] == 1], midwest.loc[midwest['Seed'] == 16])                                    \n",
        "midwest_8v9 = predictor(midwest.loc[midwest['Seed'] == 8], midwest.loc[midwest['Seed'] == 9])\n",
        "midwest_4v13 = predictor(midwest.loc[midwest['Seed'] == 4], midwest.loc[midwest['Seed'] == 13])\n",
        "midwest_5v12 = predictor(midwest.loc[midwest['Seed'] == 5], midwest.loc[midwest['Seed'] == 12])\n",
        "midwest_2v15 = predictor(midwest.loc[midwest['Seed'] == 2], midwest.loc[midwest['Seed'] == 15])\n",
        "midwest_7v10 = predictor(midwest.loc[midwest['Seed'] == 7], midwest.loc[midwest['Seed'] == 10])\n",
        "midwest_3v14 = predictor(midwest.loc[midwest['Seed'] == 3], midwest.loc[midwest['Seed'] == 14])\n",
        "midwest_6v11 = predictor(midwest.loc[midwest['Seed'] == 6], midwest.loc[midwest['Seed'] == 11])\n",
        "\n",
        "east_1v16 = predictor(east.loc[east['Seed'] == 1], play1)                                    \n",
        "east_8v9 = predictor(east.loc[east['Seed'] == 8], east.loc[east['Seed'] == 9])\n",
        "east_4v13 = predictor(east.loc[east['Seed'] == 4], east.loc[east['Seed'] == 13])\n",
        "east_5v12 = predictor(east.loc[east['Seed'] == 5], play2)\n",
        "east_2v15 = predictor(east.loc[east['Seed'] == 2], east.loc[east['Seed'] == 15])\n",
        "east_7v10 = predictor(east.loc[east['Seed'] == 7], east.loc[east['Seed'] == 10])\n",
        "east_3v14 = predictor(east.loc[east['Seed'] == 3], east.loc[east['Seed'] == 14])\n",
        "east_6v11 = predictor(east.loc[east['Seed'] == 6], play3)\n",
        "\n",
        "\n",
        "############### Second Round Games\n",
        "\n",
        "south_s161 = predictor(south_1v16, south_8v9)\n",
        "south_s162 = predictor(south_4v13, south_5v12)\n",
        "south_s163 = predictor(south_2v15, south_7v10)\n",
        "south_s164 = predictor(south_3v14, south_6v11)\n",
        "\n",
        "west_s161 = predictor(west_1v16, west_8v9)\n",
        "west_s162 = predictor(west_4v13, west_5v12)\n",
        "west_s163 = predictor(west_2v15, west_7v10)\n",
        "west_s164 = predictor(west_3v14, west_6v11)\n",
        "\n",
        "midwest_s161 = predictor(midwest_1v16, midwest_8v9)\n",
        "midwest_s162 = predictor(midwest_4v13, midwest_5v12)\n",
        "midwest_s163 = predictor(midwest_2v15, midwest_7v10)\n",
        "midwest_s164 = predictor(midwest_3v14, midwest_6v11)\n",
        "\n",
        "east_s161 = predictor(east_1v16, east_8v9)\n",
        "east_s162 = predictor(east_4v13, east_5v12)\n",
        "east_s163 = predictor(east_2v15, east_7v10)\n",
        "east_s164 = predictor(east_3v14, east_6v11)\n",
        "\n",
        "################ Sweet 16\n",
        "\n",
        "south_e81 = predictor(south_s161, south_s162)\n",
        "south_e82 = predictor(south_s163, south_s164)\n",
        "\n",
        "west_e81 = predictor(west_s161, west_s162)\n",
        "west_e82 = predictor(west_s163, west_s164)\n",
        "\n",
        "midwest_e81 = predictor(midwest_s161, midwest_s162)\n",
        "midwest_e82 = predictor(midwest_s163, midwest_s164)\n",
        "\n",
        "east_e81 = predictor(east_s161, east_s162)\n",
        "east_e82 = predictor(east_s163, east_s164)\n",
        "\n",
        "################ Elite 8\n",
        "\n",
        "south_winner = predictor(south_e81, south_e82)\n",
        "west_winner = predictor(west_e81, west_e82)\n",
        "midwest_winner = predictor(midwest_e81, midwest_e82)\n",
        "east_winner = predictor(east_e81, east_e82)\n",
        "\n",
        "############### Final Four\n",
        "print('------------------------------------')\n",
        "print(\"The Final 4 Teams are:\", south_winner['Team'], west_winner['Team'], midwest_winner['Team'], east_winner['Team'])\n",
        "\n",
        "final1 = predictor(midwest_winner, east_winner)\n",
        "final2 = predictor(west_winner, south_winner)\n",
        "print('------------------------------------')\n",
        "print('The championship game is between', final1['Team'], \"and\", final2['Team'])\n",
        "print('------------------------------------')\n",
        "champion = predictor(final1, final2)\n",
        "print('Congratulations to', champion['Team'], \"They are the 2020 NCAA Champions\")"
      ],
      "execution_count": 0,
      "outputs": [
        {
          "output_type": "stream",
          "text": [
            "------------------------------------\n",
            "The Final 4 Teams are: 64    Illinois\n",
            "Name: Team, dtype: object 35    Gonzaga\n",
            "Name: Team, dtype: object 2    Houston\n",
            "Name: Team, dtype: object 31    West Virginia\n",
            "Name: Team, dtype: object\n",
            "------------------------------------\n",
            "The championship game is between 31    West Virginia\n",
            "Name: Team, dtype: object and 35    Gonzaga\n",
            "Name: Team, dtype: object\n",
            "------------------------------------\n",
            "Congratulations to 35    Gonzaga\n",
            "Name: Team, dtype: object They are the 2020 NCAA Champions\n"
          ],
          "name": "stdout"
        }
      ]
    },
    {
      "cell_type": "markdown",
      "metadata": {
        "id": "UCPNI0Qf3Hjq",
        "colab_type": "text"
      },
      "source": [
        "And we finally have our final four and projected champions.  Next steps would to be to generate a monte carlo simulation, add some fun visualizations and eventually deploy it as an application."
      ]
    }
  ]
}